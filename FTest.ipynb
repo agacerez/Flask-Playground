{
 "cells": [
  {
   "cell_type": "markdown",
   "id": "26c0099b-e701-43ea-a8f9-e1978d4fe46c",
   "metadata": {},
   "source": [
    "# Flask"
   ]
  },
  {
   "cell_type": "markdown",
   "id": "9b734ca8-9ac2-4f6a-9821-c00a9c24d8c4",
   "metadata": {},
   "source": [
    "# General Information\n",
    "### Flask Requires HTML Coding and Python Coding\n",
    "Flask is a library that interweaves webframework operations and commands in Python with html templates/files\n",
    "1) HTML files are formatted separately\n",
    "2) Flask then coded to control how these html files are deployed\n",
    "\n",
    "### Flask Only Runs __.py__ scripts\n",
    "1) Jupyternotebook/lab file (.ipynb) format is not compatible with Flask\n",
    "2) Convert to proper .py if using other file formats\n",
    "\n"
   ]
  },
  {
   "cell_type": "code",
   "execution_count": 2,
   "id": "25bb1b8b-ccc5-4c48-9743-1d98de7156cb",
   "metadata": {},
   "outputs": [],
   "source": [
    "from flask import Flask"
   ]
  },
  {
   "cell_type": "markdown",
   "id": "d032c8b7-d4a1-489b-ba4e-96a10a235d5a",
   "metadata": {},
   "source": [
    "## Initial Setup\n",
    "\n",
    "To setup begin by calling an instance of the Flask Class: __\"Flask(args)\"__\n",
    "\n",
    "The first argument in the flask class is the module or package which flask will use to look up resources (static files, templates, etc.)\n",
    "\n",
    "__\"\\_\\_name\\_\\_\"__ is generally the most common arg for general built-in library flask setup<br> \n",
    "__Note:__ If you wanted to generate one from scratch you can build one independently, then call it in place of the __\"\\_\\_name\\_\\_\"__ library"
   ]
  },
  {
   "cell_type": "code",
   "execution_count": null,
   "id": "7ac2635c-afeb-43ac-a926-b2daffcb61ac",
   "metadata": {},
   "outputs": [],
   "source": [
    "app = Flask(__name__)\n",
    "# Double underscore \"name\" is just the name of the module"
   ]
  },
  {
   "cell_type": "markdown",
   "id": "4b43abfb-34dd-41bb-91b9-035cf14e2349",
   "metadata": {},
   "source": [
    "## Decorators\n",
    "* Decorators serve to allow flexibility and code readiability/clarity to the code (sort of like bootstrapping or creating shortcuts), \n",
    "* Normally signified by the \"@\" symbol\n",
    "\n",
    "route decorator: __@app.route__\n",
    "* Function: Route will trigger what webpage flask will bring up\n"
   ]
  },
  {
   "cell_type": "code",
   "execution_count": 3,
   "id": "14975934-fa90-446b-93c1-ff1e5a00082d",
   "metadata": {},
   "outputs": [],
   "source": [
    "@app.route(\"/\") # \"/\" represents the routepage/homepage of our website\n",
    "def hello_world():\n",
    "    return \"<p>Hello, World!</p>\""
   ]
  },
  {
   "cell_type": "markdown",
   "id": "1288a9c0-2659-4b39-93f3-a8f5bec7e5b5",
   "metadata": {},
   "source": [
    "## Running Application\n",
    "\n",
    "To run the application, use the flask command or python -m flask inputted into command line: __flask --app \"name\" run__ \n",
    "\n",
    "__Command Input:__\n",
    "$ flask --app hello run\n",
    "\n",
    "__Command Output:__\n",
    " * Serving Flask app 'hello'\n",
    " * Running on http://127.0.0.1:5000 (Press CTRL+C to quit)\n",
    "\n"
   ]
  },
  {
   "cell_type": "markdown",
   "id": "a876f898-4b9c-4f74-b849-a2ec31746b45",
   "metadata": {},
   "source": [
    "## Debug mode\n",
    "Debugmode is critical for initial web development because it allows changes in the code to be applied in realtime to the webpage\n",
    "\n",
    "__Command Input:__ <br>\n",
    "flask --app \"name\" --debug run \n",
    " \n",
    "__Command Output:__ \n",
    " * Serving Flask app 'hello'\n",
    " * Debug mode: on\n",
    " * Running on http://127.0.0.1:5000 (Press CTRL+C to quit)\n",
    " * Restarting with stat\n",
    " * Debugger is active!\n",
    " * Debugger PIN: nnn-nnn-nnn"
   ]
  },
  {
   "cell_type": "markdown",
   "id": "5d592287-5ee4-4d0f-bc17-c8f783a48223",
   "metadata": {},
   "source": [
    "## Typical HTML Format and Descriptions\n",
    "HTML is written between tags/elements denoted by <tag/element>  \\\n",
    "Below is a basic html code snippet anatomy:"
   ]
  },
  {
   "cell_type": "code",
   "execution_count": null,
   "id": "c76222fc-de5b-41d4-acab-09d12c98dc9f",
   "metadata": {},
   "outputs": [],
   "source": [
    "<!DOCTYPE html>\n",
    "<html> # Encapsulates what will be included in html\n",
    "<head> # Meta-information of the html page\n",
    "    <title></title> # Denotes the title of the page\n",
    "</head> # Closes the head region\n",
    "<body> # Content of the page begins\n",
    "    <h1>About Page</h1> # Heading for the content region\n",
    "</body> # Closes the body region\n",
    "</html> # Closes the html code"
   ]
  },
  {
   "cell_type": "markdown",
   "id": "50f7df77-17fe-45cb-bfa3-7a5b098cf7fb",
   "metadata": {},
   "source": [
    "## Creating a different page\n",
    "creation of a different page simply takes and defines the route decorator and the function to create a new page"
   ]
  },
  {
   "cell_type": "code",
   "execution_count": null,
   "id": "fd594b33-8fea-4ae1-abae-42620032a582",
   "metadata": {},
   "outputs": [],
   "source": [
    "#example\n",
    "\n",
    "@app.route(\"/about\")\n",
    "def about():\n",
    "    return \"<h1>About Page</h1>\""
   ]
  },
  {
   "cell_type": "markdown",
   "id": "3cc6296c-49cd-437f-96eb-c416a7cc292e",
   "metadata": {},
   "source": [
    "## Alternate routes into the same function\n",
    "Alternate routes are possible with the same function (webpage)\n",
    "To do this simply type in a secondary decorator with the appropriate name under the original decorator"
   ]
  },
  {
   "cell_type": "code",
   "execution_count": null,
   "id": "c9d7dc4b-a93c-46d9-b835-a1a2fc4ec8ca",
   "metadata": {},
   "outputs": [],
   "source": [
    "# Example\n",
    "\n",
    "@app.route(\"/\") # \"/\" represents the routepage/homepage of our website\n",
    "@app.route(\"/home\") # Designated as a secondary route if url is /home is entered\n",
    "def home():\n",
    "    return \"<p>Hello, World!</p>\""
   ]
  },
  {
   "cell_type": "markdown",
   "id": "36a090c0-588e-41bf-bc3a-3f7888ff6f1e",
   "metadata": {},
   "source": [
    "#  Templates"
   ]
  },
  {
   "cell_type": "code",
   "execution_count": null,
   "id": "1f6c5ebf-9d72-4b4e-902e-6a072446b8fe",
   "metadata": {},
   "outputs": [],
   "source": [
    "from flask import render_template\n",
    "\n",
    "# Allows us to return a rendered template as opposed to just plain html code\n",
    "# Rendering a template is essentially setting up a baseline template where data can be passed through and formatted and displayed with conformity regardless of when the data was passed through\n",
    "# upon setting up the redner_template()\n",
    "\n",
    "# When creating templates, ensure that the folder where templates are located is named \"__templates__\" otherwise  you will need to change the directory of where flask is looking to apply templates\n",
    "\n",
    "# Example:\n",
    "@app.route(\"/\") \n",
    "@app.route(\"/home\") \n",
    "def home():\n",
    "    return render_template('home.html')\n",
    "\n",
    "@app.route(\"/about\")\n",
    "def about():\n",
    "    return render_template(\"about.html\")\n",
    "    \n",
    "# We can confirm by inspecting the source if indeed home.html template is used"
   ]
  },
  {
   "cell_type": "markdown",
   "id": "f653fcf7-0a38-4dd3-a2fa-f52ea9229880",
   "metadata": {},
   "source": [
    "## Adding something thats more dynamic (Blog Posts)\n",
    "To make dynamic as opposed to static webpage use render_template again"
   ]
  },
  {
   "cell_type": "code",
   "execution_count": null,
   "id": "c826a937-2a1c-4863-86bf-69e75ae72c11",
   "metadata": {},
   "outputs": [],
   "source": [
    "# Example Part 1 - Flask:\n",
    "posts = [\n",
    "    {\n",
    "        'author': 'Corey Schafer',\n",
    "        'title': 'Blog Post 1',\n",
    "        'content': 'First post content',\n",
    "        'date_posted': 'April 20, 2018'\n",
    "    },\n",
    "    {\n",
    "        'author': 'Jane Doe',\n",
    "        'title': 'Blog Post 2',\n",
    "        'content': 'Second post content',\n",
    "        'date_posted': 'April 21, 2018'\n",
    "    }\n",
    "]\n",
    "\n",
    "@app.route(\"/\") \n",
    "@app.route(\"/home\") \n",
    "def home():\n",
    "    return render_template('home.html', posts = posts)\n",
    "\n",
    "@app.route(\"/about\")\n",
    "def about():\n",
    "    return render_template('about.html', title = 'About')"
   ]
  },
  {
   "cell_type": "markdown",
   "id": "72c934e5-be92-4037-9ae5-bb72c7a3c56e",
   "metadata": {},
   "source": [
    "### HTML Codeblocks\n",
    "Codeblocks are tags that Flask will identify in an html code to carry out python commands  \n",
    " \n",
    "Readable Flask(Python) Codeblocks: \\\n",
    "__{% code %}__ = functions (for, if, etc.) \\\n",
    "__{{ variable }}__ = variable"
   ]
  },
  {
   "cell_type": "code",
   "execution_count": null,
   "id": "f54380d4-e95f-4939-b635-67cfe5474965",
   "metadata": {},
   "outputs": [],
   "source": [
    "# Example Part 2 - HTML:\n",
    "<!DOCTYPE html>\n",
    "<html> \n",
    "<head>\n",
    "    {% if title %} # if/else Codeblock\n",
    "        <title>Flask Blog - {{ title }}</title>\n",
    "    {% else %} \n",
    "        <title>Flask Blog</title> \n",
    "    {% endif %} # Closes if/else Codeblock\n",
    "</head> \n",
    "<body>\n",
    "    {% for post in posts %}  # for loop Codeblock\n",
    "        <h1>{{ post.title }}</h1> # Variable Codeblock \n",
    "        <p> By {{post.author}} on {{post.date_posted}}</p> # 2 Variable Codeblocks \n",
    "        <p>{{post.content}}</p> # Variable Codeblock \n",
    "    {% endfor %} # Closes the for loop Codeblock\n",
    "</body>\n",
    "</html>"
   ]
  },
  {
   "cell_type": "markdown",
   "id": "4d5eabcd-667c-42ba-bfd9-6d5f084ba89c",
   "metadata": {},
   "source": [
    "## Template inheritance\n",
    "Template layout that containts repeated code that every page will take from, leaving spciefic code snippets for unique pages \n",
    "Reduce redundancy and overall coding errors when building the site.\n",
    "\n",
    "For unique identifiers utilizing codeblocks {% %} and keywords \"block content\" \"endblock\" we allow a particular webpage to have its own content/data, \n",
    "while the rest of the webpages take from the same template\n"
   ]
  },
  {
   "cell_type": "code",
   "execution_count": null,
   "id": "9fc73488-e9da-4b46-8344-9f9ff69bc3d0",
   "metadata": {},
   "outputs": [],
   "source": [
    "#basic master template\n",
    "\n",
    " {% block content %} {% endblock % } are block sections tag are sections that child templates can override\n",
    "code blocks are used to \n"
   ]
  },
  {
   "cell_type": "code",
   "execution_count": null,
   "id": "d25c29de-8cbd-47f2-8d6a-ad8c5f758e85",
   "metadata": {},
   "outputs": [],
   "source": [
    "# Introductory Layout Template\n",
    "<!DOCTYPE html>\n",
    "<html> \n",
    "<head>\n",
    "    {% if title %}\n",
    "        <title>Flask Blog - {{ title }}</title>\n",
    "    {% else %} \n",
    "        <title>Flask Blog</title> \n",
    "    {% endif %} \n",
    "</head> \n",
    "<body>\n",
    "    {% block content %} {% endblock % }\n",
    "</body>\n",
    "</html>"
   ]
  },
  {
   "cell_type": "code",
   "execution_count": null,
   "id": "30d74b70-8eed-42ca-941d-fc26f2337ec0",
   "metadata": {},
   "outputs": [],
   "source": [
    "Once a layout has selected we can now build our unique pages with specific section that differ from the Master Layout Template\n",
    "removal of redundant tags/elements from unique pages"
   ]
  },
  {
   "cell_type": "code",
   "execution_count": null,
   "id": "d2c4216a-cbc3-41fc-81d4-bdf76281e01e",
   "metadata": {},
   "outputs": [],
   "source": [
    "#home page html template\n",
    "{% extends \"layout.html\" %} # Allows access to master template\n",
    "{% block content %} \n",
    "    {% for post in posts %}  \n",
    "        <h1>{{ post.title }}</h1> \n",
    "        <p> By {{post.author}} on {{post.date_posted}}</p> \n",
    "        <p>{{post.content}}</p>\n",
    "    {% endfor %}\n",
    "{% endblock content%}\n",
    "\n",
    "#about page html template\n",
    "{% extends \"layout.html\" %}\n",
    "{% block content %} \n",
    "    <h1>About Page</h1> \n",
    "{% endblock content%}\n"
   ]
  },
  {
   "cell_type": "code",
   "execution_count": null,
   "id": "400a2a6f-ebc2-44e1-bbae-6b981bbbee68",
   "metadata": {},
   "outputs": [],
   "source": [
    "bootstrap can give you some premade HTML template styles so all you need to do is the uniqe portion coding\n",
    "Ideally we would put these bootsrap premade html template into the layout template\n",
    "\n",
    "20:40"
   ]
  },
  {
   "cell_type": "code",
   "execution_count": null,
   "id": "44c4900d-0ef2-49cc-b3ae-1cb711859f4d",
   "metadata": {},
   "outputs": [],
   "source": [
    "example boot strap from the starter page \n",
    "\n",
    "<!doctype html>\n",
    "<html lang=\"en\">\n",
    "  <head>\n",
    "    <!-- Required meta tags -->\n",
    "    <meta charset=\"utf-8\">\n",
    "    <meta name=\"viewport\" content=\"width=device-width, initial-scale=1\">\n",
    "\n",
    "    <!-- Bootstrap CSS -->\n",
    "    <link href=\"https://cdn.jsdelivr.net/npm/bootstrap@5.0.2/dist/css/bootstrap.min.css\" rel=\"stylesheet\" integrity=\"sha384-EVSTQN3/azprG1Anm3QDgpJLIm9Nao0Yz1ztcQTwFspd3yD65VohhpuuCOmLASjC\" crossorigin=\"anonymous\">\n",
    "\n",
    "    <title>Hello, world!</title>\n",
    "  </head>\n",
    "  <body>\n",
    "    <h1>Hello, world!</h1>\n",
    "\n",
    "    <!-- Optional JavaScript; choose one of the two! -->\n",
    "\n",
    "    <!-- Option 1: Bootstrap Bundle with Popper -->\n",
    "    <script src=\"https://cdn.jsdelivr.net/npm/bootstrap@5.0.2/dist/js/bootstrap.bundle.min.js\" integrity=\"sha384-MrcW6ZMFYlzcLA8Nl+NtUVF0sA7MsXsP1UyJoMp4YLEuNSfAP+JcXn/tWtIaxVXM\" crossorigin=\"anonymous\"></script>\n",
    "\n",
    "    <!-- Option 2: Separate Popper and Bootstrap JS -->\n",
    "    <!--\n",
    "    <script src=\"https://cdn.jsdelivr.net/npm/@popperjs/core@2.9.2/dist/umd/popper.min.js\" integrity=\"sha384-IQsoLXl5PILFhosVNubq5LC7Qb9DXgDA9i+tQ8Zj3iwWAwPtgFTxbJ8NT4GN1R8p\" crossorigin=\"anonymous\"></script>\n",
    "    <script src=\"https://cdn.jsdelivr.net/npm/bootstrap@5.0.2/dist/js/bootstrap.min.js\" integrity=\"sha384-cVKIPhGWiC2Al4u+LWgxfKTRIcfu0JTxR+EQDz/bgldoEyl4H0zUF0QKbrJ0EcQF\" crossorigin=\"anonymous\"></script>\n",
    "    -->\n",
    "  </body>\n",
    "</html>\n"
   ]
  },
  {
   "cell_type": "code",
   "execution_count": null,
   "id": "138dc67a-6966-4286-b8e3-031bf4387f70",
   "metadata": {},
   "outputs": [],
   "source": [
    "static files meaning css or javascript codes need to be located in a static directory (26:00 part 2)\n",
    "\n",
    "once the static directory is completed we need to use the URL_for in our flask code, we also need to setup where this will be located in the html pages"
   ]
  },
  {
   "cell_type": "code",
   "execution_count": null,
   "id": "d07b4528-a6b8-429d-9a63-a322f4459380",
   "metadata": {},
   "outputs": [],
   "source": [
    "#STOPPED AT PART#2 TIMESTAMP: \n"
   ]
  }
 ],
 "metadata": {
  "kernelspec": {
   "display_name": "Python 3 (ipykernel)",
   "language": "python",
   "name": "python3"
  },
  "language_info": {
   "codemirror_mode": {
    "name": "ipython",
    "version": 3
   },
   "file_extension": ".py",
   "mimetype": "text/x-python",
   "name": "python",
   "nbconvert_exporter": "python",
   "pygments_lexer": "ipython3",
   "version": "3.11.2"
  }
 },
 "nbformat": 4,
 "nbformat_minor": 5
}
