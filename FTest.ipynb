{
 "cells": [
  {
   "cell_type": "markdown",
   "id": "26c0099b-e701-43ea-a8f9-e1978d4fe46c",
   "metadata": {},
   "source": [
    "# Flask"
   ]
  },
  {
   "cell_type": "markdown",
   "id": "9b734ca8-9ac2-4f6a-9821-c00a9c24d8c4",
   "metadata": {},
   "source": [
    "# General Information\n",
    "### Flask Requires HTML Coding and Python Coding\n",
    "Flask is a library that interweaves webframework operations and commands in Python with html templates/files\n",
    "1) HTML files are formatted separately\n",
    "2) Flask then coded to control how these html files are deployed\n",
    "\n",
    "### Flask Only Runs __.py__ scripts\n",
    "1) Jupyternotebook/lab file (.ipynb) format is not compatible with Flask\n",
    "2) Convert to proper .py if using other file formats\n",
    "\n"
   ]
  },
  {
   "cell_type": "code",
   "execution_count": 2,
   "id": "25bb1b8b-ccc5-4c48-9743-1d98de7156cb",
   "metadata": {},
   "outputs": [],
   "source": [
    "from flask import Flask"
   ]
  },
  {
   "cell_type": "markdown",
   "id": "d032c8b7-d4a1-489b-ba4e-96a10a235d5a",
   "metadata": {},
   "source": [
    "## Initial Setup\n",
    "\n",
    "To setup begin by calling an instance of the Flask Class: __\"Flask(args)\"__\n",
    "\n",
    "The first argument in the flask class is the module or package which flask will use to look up resources (static files, templates, etc.)\n",
    "\n",
    "__\"\\_\\_name\\_\\_\"__ is generally the most common arg for general built-in library flask setup<br> \n",
    "__Note:__ If you wanted to generate one from scratch you can build one independently, then call it in place of the __\"\\_\\_name\\_\\_\"__ library"
   ]
  },
  {
   "cell_type": "code",
   "execution_count": null,
   "id": "7ac2635c-afeb-43ac-a926-b2daffcb61ac",
   "metadata": {},
   "outputs": [],
   "source": [
    "app = Flask(__name__)\n",
    "# Double underscore \"name\" is just the name of the module"
   ]
  },
  {
   "cell_type": "markdown",
   "id": "4b43abfb-34dd-41bb-91b9-035cf14e2349",
   "metadata": {},
   "source": [
    "## Decorators\n",
    "* Decorators serve to allow flexibility and code readiability/clarity to the code (sort of like bootstrapping or creating shortcuts), \n",
    "* Normally signified by the \"@\" symbol\n",
    "\n",
    "route decorator: __@app.route__\n",
    "* Function: Route will trigger what webpage flask will bring up\n"
   ]
  },
  {
   "cell_type": "code",
   "execution_count": 3,
   "id": "14975934-fa90-446b-93c1-ff1e5a00082d",
   "metadata": {},
   "outputs": [],
   "source": [
    "@app.route(\"/\") # \"/\" represents the routepage/homepage of our website\n",
    "def hello_world():\n",
    "    return \"<p>Hello, World!</p>\""
   ]
  },
  {
   "cell_type": "markdown",
   "id": "1288a9c0-2659-4b39-93f3-a8f5bec7e5b5",
   "metadata": {},
   "source": [
    "## Running Application\n",
    "\n",
    "To run the application, use the flask command or python -m flask inputted into command line: __flask --app \"name\" run__ \n",
    "\n",
    "__Command Input:__\n",
    "$ flask --app hello run\n",
    "\n",
    "__Command Output:__\n",
    " * Serving Flask app 'hello'\n",
    " * Running on http://127.0.0.1:5000 (Press CTRL+C to quit)\n",
    "\n"
   ]
  },
  {
   "cell_type": "markdown",
   "id": "a876f898-4b9c-4f74-b849-a2ec31746b45",
   "metadata": {},
   "source": [
    "## Debug mode\n",
    "Debugmode is critical for initial web development because it allows changes in the code to be applied in realtime to the webpage\n",
    "\n",
    "__Command Input:__ <br>\n",
    "flask --app \"name\" --debug run \n",
    " \n",
    "__Command Output:__ \n",
    " * Serving Flask app 'hello'\n",
    " * Debug mode: on\n",
    " * Running on http://127.0.0.1:5000 (Press CTRL+C to quit)\n",
    " * Restarting with stat\n",
    " * Debugger is active!\n",
    " * Debugger PIN: nnn-nnn-nnn"
   ]
  },
  {
   "cell_type": "markdown",
   "id": "5d592287-5ee4-4d0f-bc17-c8f783a48223",
   "metadata": {},
   "source": [
    "## Typical HTML Format and Descriptions\n",
    "HTML is written between tags/elements denoted by <tag/element>  \\\n",
    "Below is a basic html code snippet anatomy:"
   ]
  },
  {
   "cell_type": "code",
   "execution_count": null,
   "id": "c76222fc-de5b-41d4-acab-09d12c98dc9f",
   "metadata": {},
   "outputs": [],
   "source": [
    "<!DOCTYPE html>\n",
    "<html> # Encapsulates what will be included in html\n",
    "<head> # Meta-information of the html page\n",
    "    <title></title> # Denotes the title of the page\n",
    "</head> # Closes the head region\n",
    "<body> # Content of the page begins\n",
    "    <h1>About Page</h1> # Heading for the content region\n",
    "</body> # Closes the body region\n",
    "</html> # Closes the html code"
   ]
  },
  {
   "cell_type": "markdown",
   "id": "50f7df77-17fe-45cb-bfa3-7a5b098cf7fb",
   "metadata": {},
   "source": [
    "## Creating a different page\n",
    "creation of a different page simply takes and defines the route decorator and the function to create a new page"
   ]
  },
  {
   "cell_type": "code",
   "execution_count": null,
   "id": "fd594b33-8fea-4ae1-abae-42620032a582",
   "metadata": {},
   "outputs": [],
   "source": [
    "#example\n",
    "\n",
    "@app.route(\"/about\")\n",
    "def about():\n",
    "    return \"<h1>About Page</h1>\""
   ]
  },
  {
   "cell_type": "markdown",
   "id": "3cc6296c-49cd-437f-96eb-c416a7cc292e",
   "metadata": {},
   "source": [
    "## Alternate routes into the same function\n",
    "Alternate routes are possible with the same function (webpage)\n",
    "To do this simply type in a secondary decorator with the appropriate name under the original decorator"
   ]
  },
  {
   "cell_type": "code",
   "execution_count": null,
   "id": "c9d7dc4b-a93c-46d9-b835-a1a2fc4ec8ca",
   "metadata": {},
   "outputs": [],
   "source": [
    "# Example\n",
    "\n",
    "@app.route(\"/\") # \"/\" represents the routepage/homepage of our website\n",
    "@app.route(\"/home\") # Designated as a secondary route if url is /home is entered\n",
    "def home():\n",
    "    return \"<p>Hello, World!</p>\""
   ]
  },
  {
   "cell_type": "markdown",
   "id": "36a090c0-588e-41bf-bc3a-3f7888ff6f1e",
   "metadata": {},
   "source": [
    "#  Templates"
   ]
  },
  {
   "cell_type": "code",
   "execution_count": null,
   "id": "1f6c5ebf-9d72-4b4e-902e-6a072446b8fe",
   "metadata": {},
   "outputs": [],
   "source": [
    "from flask import render_template\n",
    "\n",
    "# Allows us to return a rendered template as opposed to just plain html code\n",
    "# Rendering a template is essentially setting up a baseline template where data can be passed through and formatted and displayed with conformity regardless of when the data was passed through\n",
    "# upon setting up the redner_template()\n",
    "\n",
    "# When creating templates, ensure that the folder where templates are located is named \"__templates__\" otherwise  you will need to change the directory of where flask is looking to apply templates\n",
    "\n",
    "# Example:\n",
    "@app.route(\"/\") \n",
    "@app.route(\"/home\") \n",
    "def home():\n",
    "    return render_template('home.html')\n",
    "\n",
    "@app.route(\"/about\")\n",
    "def about():\n",
    "    return render_template(\"about.html\")\n",
    "    \n",
    "# We can confirm by inspecting the source if indeed home.html template is used"
   ]
  },
  {
   "cell_type": "markdown",
   "id": "f653fcf7-0a38-4dd3-a2fa-f52ea9229880",
   "metadata": {},
   "source": [
    "## Adding something thats more dynamic (Blog Posts)\n",
    "To make dynamic as opposed to static webpage use render_template again"
   ]
  },
  {
   "cell_type": "code",
   "execution_count": null,
   "id": "c826a937-2a1c-4863-86bf-69e75ae72c11",
   "metadata": {},
   "outputs": [],
   "source": [
    "# Example Part 1 - Flask:\n",
    "posts = [\n",
    "    {\n",
    "        'author': 'Corey Schafer',\n",
    "        'title': 'Blog Post 1',\n",
    "        'content': 'First post content',\n",
    "        'date_posted': 'April 20, 2018'\n",
    "    },\n",
    "    {\n",
    "        'author': 'Jane Doe',\n",
    "        'title': 'Blog Post 2',\n",
    "        'content': 'Second post content',\n",
    "        'date_posted': 'April 21, 2018'\n",
    "    }\n",
    "]\n",
    "\n",
    "@app.route(\"/\") \n",
    "@app.route(\"/home\") \n",
    "def home():\n",
    "    return render_template('home.html', posts = posts)\n",
    "\n",
    "@app.route(\"/about\")\n",
    "def about():\n",
    "    return render_template('about.html', title = 'About')"
   ]
  },
  {
   "cell_type": "markdown",
   "id": "72c934e5-be92-4037-9ae5-bb72c7a3c56e",
   "metadata": {},
   "source": [
    "### HTML Codeblocks\n",
    "Codeblocks are tags that Flask will identify in an html code to carry out python commands  \n",
    " \n",
    "Readable Flask(Python) Codeblocks: \\\n",
    "__{% code %}__ = functions (for, if, etc.) \\\n",
    "__{{ variable }}__ = variable"
   ]
  },
  {
   "cell_type": "code",
   "execution_count": null,
   "id": "d16bdb37-9885-42ca-97d6-1e0aabe9954b",
   "metadata": {},
   "outputs": [],
   "source": [
    "# Example Part 2 - HTML:\n",
    "<!DOCTYPE html>\n",
    "<html> \n",
    "<head>\n",
    "    {% if title %} # if/else Codeblock\n",
    "        <title>Flask Blog - {{ title }}</title>\n",
    "    {% else %} \n",
    "        <title>Flask Blog</title> \n",
    "    {% endif %} # Closes if/else Codeblock\n",
    "</head> \n",
    "<body>\n",
    "    {% for post in posts %}  # for loop Codeblock\n",
    "        <h1>{{ post.title }}</h1> # Variable Codeblock \n",
    "        <p> By {{post.author}} on {{post.date_posted}}</p> # 2 Variable Codeblocks \n",
    "        <p>{{post.content}}</p> # Variable Codeblock \n",
    "    {% endfor %} # Closes the for loop Codeblock\n",
    "</body>\n",
    "</html>"
   ]
  },
  {
   "cell_type": "markdown",
   "id": "4d5eabcd-667c-42ba-bfd9-6d5f084ba89c",
   "metadata": {},
   "source": [
    "## Template inheritance\n",
    "Master Template Layouts are important for providing clean code that all pages can draw from yet allowing spcific code snippets for unique pages \\\n",
    "They reduce redundancy and overall coding errors when building the site.\n",
    "\n",
    "Codeblocks are a critical component here becaue they allow us to designate which areas on a webpage will be different from the master template"
   ]
  },
  {
   "cell_type": "code",
   "execution_count": null,
   "id": "d25c29de-8cbd-47f2-8d6a-ad8c5f758e85",
   "metadata": {},
   "outputs": [],
   "source": [
    "# Simple Master Template Layout\n",
    "<!DOCTYPE html>\n",
    "<html> \n",
    "<head>\n",
    "    {% if title %}\n",
    "        <title>Flask Blog - {{ title }}</title>\n",
    "    {% else %} \n",
    "        <title>Flask Blog</title> \n",
    "    {% endif %} \n",
    "</head> \n",
    "<body>\n",
    "    {% block content %} {% endblock %}\n",
    "</body>\n",
    "</html>"
   ]
  },
  {
   "cell_type": "markdown",
   "id": "c1a4d309-c126-4e65-aaa4-17ec54c1920c",
   "metadata": {},
   "source": [
    "## Building Unique Pages\n",
    "Once a master layout has been generated we it to each specific page by using  __{% extends \"template_name.html\" %}__ in the html code."
   ]
  },
  {
   "cell_type": "code",
   "execution_count": null,
   "id": "d2c4216a-cbc3-41fc-81d4-bdf76281e01e",
   "metadata": {},
   "outputs": [],
   "source": [
    "# Example of Unique Page Inheriting a Master Template\n",
    "\n",
    "{% extends \"layout.html\" %} # Allows access to master template\n",
    "{% block content %} \n",
    "    {% for post in posts %}  \n",
    "        <h1>{{ post.title }}</h1> \n",
    "        <p> By {{post.author}} on {{post.date_posted}}</p> \n",
    "        <p>{{post.content}}</p>\n",
    "    {% endfor %}\n",
    "{% endblock content%}\n",
    "\n",
    "#about page html template\n",
    "{% extends \"layout.html\" %}\n",
    "{% block content %} \n",
    "    <h1>About Page</h1> \n",
    "{% endblock content%}"
   ]
  },
  {
   "cell_type": "markdown",
   "id": "49cc94e3-c185-424d-a1f0-87708624ca6e",
   "metadata": {},
   "source": [
    "## Premade Templates and Formats\n",
    "Previously generated templates can be copied and inserted into HTML code.\n",
    "\n",
    "Common Premade Template Types:\n",
    "1) Bootstrap: premade HTML template styles that are hosted by CDNs online. \n",
    "   \n",
    "2) Static CSS files: css file that contains a template housed in a static directory (usually locally)\n",
    "\n",
    "3) Previously Generated HTML Code: Code that is copied from previous HTML pages and pasted to a new HTML page"
   ]
  },
  {
   "cell_type": "markdown",
   "id": "738e84ff-c0bf-4d40-b874-cfff452784b9",
   "metadata": {},
   "source": [
    "# Boot Strap \n",
    "Meta tags need to come in"
   ]
  },
  {
   "cell_type": "raw",
   "id": "d77baf72-c79a-4cb9-abe4-7aad98474661",
   "metadata": {},
   "source": [
    "# Bootstrap Example\n",
    "\n",
    "<!doctype html>\n",
    "<html lang=\"en\">\n",
    "  <head> \n",
    "    <!-- ****** Required meta tags ****** -->\n",
    "    <meta charset=\"utf-8\">\n",
    "    <meta name=\"viewport\" content=\"width=device-width, initial-scale=1\">\n",
    "    <!-- ****** Bootstrap CSS ****** -->\n",
    "    <link href=\"https://cdn.jsdelivr.net/npm/bootstrap@5.0.2/dist/css/bootstrap.min.css\" rel=\"stylesheet\" integrity=\"sha384-EVSTQN3/azprG1Anm3QDgpJLIm9Nao0Yz1ztcQTwFspd3yD65VohhpuuCOmLASjC\" crossorigin=\"anonymous\">\n",
    "\n",
    "    <title>Hello, world!</title>\n",
    "  </head>\n",
    "  <body>\n",
    "    <h1>Hello, world!</h1>\n",
    "\n",
    "    <!-- ****** Optional JavaScript; choose one of the two! ****** -->\n",
    "\n",
    "    <!-- ****** Option 1: Bootstrap Bundle with Popper ****** -->\n",
    "    <script src=\"https://cdn.jsdelivr.net/npm/bootstrap@5.0.2/dist/js/bootstrap.bundle.min.js\" integrity=\"sha384-MrcW6ZMFYlzcLA8Nl+NtUVF0sA7MsXsP1UyJoMp4YLEuNSfAP+JcXn/tWtIaxVXM\" crossorigin=\"anonymous\"></script>\n",
    "\n",
    "    <!-- ****** Option 2: Separate Popper and Bootstrap JS ****** -->\n",
    "    <!--\n",
    "    <script src=\"https://cdn.jsdelivr.net/npm/@popperjs/core@2.9.2/dist/umd/popper.min.js\" integrity=\"sha384-IQsoLXl5PILFhosVNubq5LC7Qb9DXgDA9i+tQ8Zj3iwWAwPtgFTxbJ8NT4GN1R8p\" crossorigin=\"anonymous\"></script>\n",
    "    <script src=\"https://cdn.jsdelivr.net/npm/bootstrap@5.0.2/dist/js/bootstrap.min.js\" integrity=\"sha384-cVKIPhGWiC2Al4u+LWgxfKTRIcfu0JTxR+EQDz/bgldoEyl4H0zUF0QKbrJ0EcQF\" crossorigin=\"anonymous\"></script>\n",
    "    -->\n",
    "  </body>\n",
    "</html>\n"
   ]
  },
  {
   "cell_type": "markdown",
   "id": "cdaa5073-3330-448e-9ede-d26ffc41cf05",
   "metadata": {},
   "source": [
    "# Static Files"
   ]
  },
  {
   "cell_type": "markdown",
   "id": "df0ad3b3-1dfe-484a-8e25-261150d8712a",
   "metadata": {},
   "source": [
    "For customs styles that are not boostrap speciic\n",
    "\n",
    "static files meaning css or javascript codes that are custom built need to be located in a static directory (folder) on your computer \n",
    "\n",
    "once the static files have been moved to the static folder, we need to use the URL_for in our flask code, we also need to setup where this will be located in the html pages\n",
    "\n",
    "URL_for finds the routes for where to pull the static files from\n",
    "\n",
    "we need to import url_for\n",
    "\n",
    "from flask import url_for\n",
    "\n",
    "we then can then use url_for in our html files\n",
    "\n",
    "in this case in the head\n",
    "\n",
    "<link rel=\"stylesheet\" type =\"text/css\" href = \"{{url_for('static', filename = 'main.css')}}\">"
   ]
  },
  {
   "cell_type": "raw",
   "id": "e29e2b93-e109-43cf-b108-0872d9f65edb",
   "metadata": {},
   "source": [
    "#Example\n",
    "\n",
    "<!DOCTYPE html>\n",
    "<html> \n",
    "<head>\n",
    "    <!-- Required meta tags -->\n",
    "    <meta charset=\"utf-8\">\n",
    "    <meta name=\"viewport\" content=\"width=device-width, initial-scale=1\">\n",
    "\n",
    "    <!-- Bootstrap CSS -->\n",
    "    <link href=\"https://cdn.jsdelivr.net/npm/bootstrap@5.0.2/dist/css/bootstrap.min.css\" rel=\"stylesheet\" integrity=\"sha384-EVSTQN3/azprG1Anm3QDgpJLIm9Nao0Yz1ztcQTwFspd3yD65VohhpuuCOmLASjC\" crossorigin=\"anonymous\">\n",
    "\n",
    "    <!-- ****** Custom CSS via url_for ****** -->\n",
    "    <link rel=\"stylesheet\" type =\"text/css\" href = \"{{url_for('static', filename = 'main.css')}}\">\n",
    "\n",
    "    {% if title %}\n",
    "        <title>Flask Blog - {{ title }}</title>\n",
    "    {% else %} \n",
    "        <title>Flask Blog</title> \n",
    "    {% endif %} \n",
    "</head> \n",
    "\n",
    "<body>\n",
    "    <!-- Option 1: Bootstrap Bundle with Popper -->\n",
    "    <script src=\"https://cdn.jsdelivr.net/npm/bootstrap@5.0.2/dist/js/bootstrap.bundle.min.js\" integrity=\"sha384-MrcW6ZMFYlzcLA8Nl+NtUVF0sA7MsXsP1UyJoMp4YLEuNSfAP+JcXn/tWtIaxVXM\" crossorigin=\"anonymous\"></script>       \n",
    "</body>\n"
   ]
  },
  {
   "cell_type": "code",
   "execution_count": null,
   "id": "942b62ed-a8bf-4b69-b5da-5414201a858c",
   "metadata": {},
   "outputs": [],
   "source": [
    "## Copy Paste From Old Templates\n",
    "\n",
    "We can add things like navigations bars and nice looking layouts and text formats by finding them as snippets.\n",
    "\n",
    "These can be html codes that others have previously generated so we can easily copy and paste them into our html layouts\n",
    "\n",
    "If we want to adjust some sections to make them look nicer from other html files, we can simply take the html code from that template\n",
    "\n",
    "for example we can take the code from the article template to adjust the format of the user post section"
   ]
  },
  {
   "cell_type": "raw",
   "id": "4700f411-6276-4bc8-9c05-caa7a4f879f4",
   "metadata": {},
   "source": [
    "<!DOCTYPE html>\n",
    "<html> \n",
    "<head>\n",
    "    <!-- Required meta tags -->\n",
    "    <meta charset=\"utf-8\">\n",
    "    <meta name=\"viewport\" content=\"width=device-width, initial-scale=1\">\n",
    "\n",
    "    <!-- Bootstrap CSS -->\n",
    "    <link href=\"https://cdn.jsdelivr.net/npm/bootstrap@5.0.2/dist/css/bootstrap.min.css\" rel=\"stylesheet\" integrity=\"sha384-EVSTQN3/azprG1Anm3QDgpJLIm9Nao0Yz1ztcQTwFspd3yD65VohhpuuCOmLASjC\" crossorigin=\"anonymous\">\n",
    "\n",
    "    <!-- Custom CSS via url_for-->\n",
    "    <link rel=\"stylesheet\" type =\"text/css\" href = \"{{url_for('static', filename = 'main.css')}}\">\n",
    "\n",
    "    {% if title %}\n",
    "        <title>Flask Blog - {{ title }}</title>\n",
    "    {% else %} \n",
    "        <title>Flask Blog</title> \n",
    "    {% endif %} \n",
    "</head> \n",
    "<body>\n",
    "    <!-- ****** Navigation Bar ****** -->\n",
    "    <header class=\"site-header\">\n",
    "      <nav class=\"navbar navbar-expand-md navbar-dark bg-steel fixed-top\">\n",
    "        <div class=\"container\">\n",
    "          <a class=\"navbar-brand mr-4\" href=\"/\">Flask Blog</a>\n",
    "          <button class=\"navbar-toggler\" type=\"button\" data-toggle=\"collapse\" data-target=\"#navbarToggle\" aria-controls=\"navbarToggle\" aria-expanded=\"false\" aria-label=\"Toggle navigation\">\n",
    "            <span class=\"navbar-toggler-icon\"></span>\n",
    "          </button>\n",
    "          <div class=\"collapse navbar-collapse\" id=\"navbarToggle\">\n",
    "            <div class=\"navbar-nav mr-auto\">\n",
    "              <a class=\"nav-item nav-link\" href=\"/\">Home</a>\n",
    "              <a class=\"nav-item nav-link\" href=\"/about\">About</a>\n",
    "            </div>\n",
    "            <!-- Navbar Right Side -->\n",
    "            <div class=\"navbar-nav\">\n",
    "              <a class=\"nav-item nav-link\" href=\"/login\">Login</a>\n",
    "              <a class=\"nav-item nav-link\" href=\"/register\">Register</a>\n",
    "            </div>\n",
    "          </div>\n",
    "        </div>\n",
    "      </nav>\n",
    "    </header>\n",
    "    \n",
    "    <!-- ****** Replaced Premade Layout ****** -->\n",
    "    <main role=\"main\" class=\"container\">\n",
    "      <div class=\"row\">\n",
    "        <div class=\"col-md-8\">\n",
    "          {% block content %}{% endblock %}\n",
    "        </div>\n",
    "        <div class=\"col-md-4\">\n",
    "          <div class=\"content-section\">\n",
    "            <h3>Our Sidebar</h3>\n",
    "            <p class='text-muted'>You can put any information here you'd like.\n",
    "              <ul class=\"list-group\">\n",
    "                <li class=\"list-group-item list-group-item-light\">Latest Posts</li>\n",
    "                <li class=\"list-group-item list-group-item-light\">Announcements</li>\n",
    "                <li class=\"list-group-item list-group-item-light\">Calendars</li>\n",
    "                <li class=\"list-group-item list-group-item-light\">etc</li>\n",
    "              </ul>\n",
    "            </p>\n",
    "          </div>\n",
    "        </div>\n",
    "      </div>\n",
    "    </main>\n",
    "    \n",
    "    <!-- Option 1: Bootstrap Bundle with Popper -->\n",
    "    <script src=\"https://cdn.jsdelivr.net/npm/bootstrap@5.0.2/dist/js/bootstrap.bundle.min.js\" integrity=\"sha384-MrcW6ZMFYlzcLA8Nl+NtUVF0sA7MsXsP1UyJoMp4YLEuNSfAP+JcXn/tWtIaxVXM\" crossorigin=\"anonymous\"></script>   \n",
    "    \n",
    "</body>\n",
    "</html>\n"
   ]
  }
 ],
 "metadata": {
  "kernelspec": {
   "display_name": "Python 3 (ipykernel)",
   "language": "python",
   "name": "python3"
  },
  "language_info": {
   "codemirror_mode": {
    "name": "ipython",
    "version": 3
   },
   "file_extension": ".py",
   "mimetype": "text/x-python",
   "name": "python",
   "nbconvert_exporter": "python",
   "pygments_lexer": "ipython3",
   "version": "3.11.2"
  }
 },
 "nbformat": 4,
 "nbformat_minor": 5
}
