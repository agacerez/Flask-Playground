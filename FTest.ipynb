{
 "cells": [
  {
   "cell_type": "markdown",
   "id": "268146e3-066e-495a-ae76-bb1230a93415",
   "metadata": {},
   "source": [
    "## Flask itself will not run in Jupyternotebook file formats, this is only note taking purposes. \n",
    "\n",
    "## All testing should be completed in applications that are in the traditional .py file format"
   ]
  },
  {
   "cell_type": "code",
   "execution_count": 2,
   "id": "25bb1b8b-ccc5-4c48-9743-1d98de7156cb",
   "metadata": {},
   "outputs": [],
   "source": [
    "from flask import Flask"
   ]
  },
  {
   "cell_type": "markdown",
   "id": "d032c8b7-d4a1-489b-ba4e-96a10a235d5a",
   "metadata": {},
   "source": [
    "## Initial Setup\n",
    "\n",
    "To setup begin by calling an instance of the Flask Class: __\"Flask(args)\"__\n",
    "\n",
    "The first argument in the flask class is the module or package which flask will use to look up resources (static files, templates, etc.)\n",
    "\n",
    "__\"\\_\\_name\\_\\_\"__ is generally the most common arg for general built-in library flask setup<br> \n",
    "__Note:__ If you wanted to generate one from scratch you can build one independently, then call it in place of the __\"\\_\\_name\\_\\_\"__ library"
   ]
  },
  {
   "cell_type": "code",
   "execution_count": null,
   "id": "7ac2635c-afeb-43ac-a926-b2daffcb61ac",
   "metadata": {},
   "outputs": [],
   "source": [
    "app = Flask(__name__)\n",
    "#double underscore \"name\" is just the name of the module"
   ]
  },
  {
   "cell_type": "markdown",
   "id": "4b43abfb-34dd-41bb-91b9-035cf14e2349",
   "metadata": {},
   "source": [
    "## Decorators\n",
    "* Decorators serve to allow flexibility and code readiability/clarity to the code (sort of like bootstrapping or creating shortcuts), \n",
    "* Normally signified by the \"@\" symbol\n",
    "\n",
    "route decorator: __@app.route__\n",
    "* Function: Route will trigger what webpage flask will bring up\n"
   ]
  },
  {
   "cell_type": "code",
   "execution_count": 3,
   "id": "14975934-fa90-446b-93c1-ff1e5a00082d",
   "metadata": {},
   "outputs": [],
   "source": [
    "@app.route(\"/\") # \"/\" represents the routepage/homepage of our website\n",
    "def hello_world():\n",
    "    return \"<p>Hello, World!</p>\""
   ]
  },
  {
   "cell_type": "markdown",
   "id": "1288a9c0-2659-4b39-93f3-a8f5bec7e5b5",
   "metadata": {},
   "source": [
    "## Running Application\n",
    "\n",
    "To run the application, use the flask command or python -m flask inputted into command line: __flask --app \"name\" run__ \n",
    "\n",
    "__Command Input:__\n",
    "$ flask --app hello run\n",
    "\n",
    "__Command Output:__\n",
    " * Serving Flask app 'hello'\n",
    " * Running on http://127.0.0.1:5000 (Press CTRL+C to quit)\n",
    "\n"
   ]
  },
  {
   "cell_type": "markdown",
   "id": "a876f898-4b9c-4f74-b849-a2ec31746b45",
   "metadata": {},
   "source": [
    "## Debug mode\n",
    "Debugmode is critical for initial web development because it allows changes in the code to be applied in realtime to the webpage\n",
    "\n",
    "__Command Input:__ <br>\n",
    "flask --app \"name\" --debug run \n",
    " \n",
    "__Command Output:__ \n",
    " * Serving Flask app 'hello'\n",
    " * Debug mode: on\n",
    " * Running on http://127.0.0.1:5000 (Press CTRL+C to quit)\n",
    " * Restarting with stat\n",
    " * Debugger is active!\n",
    " * Debugger PIN: nnn-nnn-nnn"
   ]
  },
  {
   "cell_type": "markdown",
   "id": "5d592287-5ee4-4d0f-bc17-c8f783a48223",
   "metadata": {},
   "source": [
    "## Typical HTML Format and Descriptions"
   ]
  },
  {
   "cell_type": "code",
   "execution_count": null,
   "id": "c76222fc-de5b-41d4-acab-09d12c98dc9f",
   "metadata": {},
   "outputs": [],
   "source": [
    "<!DOCTYPE html>\n",
    "<html> \n",
    "<head>\n",
    "    <title></title>\n",
    "</head> \n",
    "<body>\n",
    "    <h1>About Page</h1>\n",
    "</body>\n",
    "</html>"
   ]
  },
  {
   "cell_type": "markdown",
   "id": "50f7df77-17fe-45cb-bfa3-7a5b098cf7fb",
   "metadata": {},
   "source": [
    "## Creating a different page\n",
    "creation of a different page simply takes and defines the route decorator and the function to create a new page"
   ]
  },
  {
   "cell_type": "code",
   "execution_count": null,
   "id": "fd594b33-8fea-4ae1-abae-42620032a582",
   "metadata": {},
   "outputs": [],
   "source": [
    "#example\n",
    "\n",
    "@app.route(\"/about\")\n",
    "def about():\n",
    "    return \"<h1>About Page</h1>\""
   ]
  },
  {
   "cell_type": "markdown",
   "id": "3cc6296c-49cd-437f-96eb-c416a7cc292e",
   "metadata": {},
   "source": [
    "## Alternate routes into the same function\n",
    "Alternate routes are possible with the same function (webpage)\n",
    "To do this simply type in a secondary decorator with the appropriate name under the original decorator"
   ]
  },
  {
   "cell_type": "code",
   "execution_count": null,
   "id": "c9d7dc4b-a93c-46d9-b835-a1a2fc4ec8ca",
   "metadata": {},
   "outputs": [],
   "source": [
    "#example\n",
    "\n",
    "@app.route(\"/\") # \"/\" represents the routepage/homepage of our website\n",
    "@app.route(\"/home\") #designated as a secondary route if url is /home is entered\n",
    "def home():\n",
    "    return \"<p>Hello, World!</p>\""
   ]
  },
  {
   "cell_type": "markdown",
   "id": "36a090c0-588e-41bf-bc3a-3f7888ff6f1e",
   "metadata": {},
   "source": [
    "#  Templates\n",
    "\n",
    "readable Flask Codeblocks can be generated in html files by using __{% code %}__ \n",
    "\n",
    "printing variables uses a different codeblock type that uses __{{ variable }}__"
   ]
  },
  {
   "cell_type": "code",
   "execution_count": null,
   "id": "1f6c5ebf-9d72-4b4e-902e-6a072446b8fe",
   "metadata": {},
   "outputs": [],
   "source": [
    "from flask import render_template\n",
    "\n",
    "#allows us to return a rendered template as opposed to just plain html code\n",
    "#rendering a template is essentially setting up a baseline template where data can be passed through and formatted and displayed with conformity regardless of when the data was passed through\n",
    "# upon setting up the redner_template()\n",
    "\n",
    "#When creating templates, ensure that the folder where templates are located is named \"__templates__\" otherwise  you will need to change the directory of where flask is looking to apply templates\n",
    "\n",
    "# example:\n",
    "@app.route(\"/\") \n",
    "@app.route(\"/home\") \n",
    "def home():\n",
    "    return render_template('home.html')\n",
    "\n",
    "@app.route(\"/about\")\n",
    "def about():\n",
    "    return render_template(\"about.html\")\n",
    "    \n",
    "#We can confirm my inspecting the source if indeed it is pulling from our home.html template"
   ]
  },
  {
   "cell_type": "code",
   "execution_count": null,
   "id": "c768364a-cf0f-4a2e-867b-bdc97818a8a8",
   "metadata": {},
   "outputs": [],
   "source": [
    "# Template inheritance\n",
    "\n",
    "Uses a layout that every page will take from. This allows us to setup each webpage similarly as opposed to to changing each page separately\n",
    "The only information that should be changed from each webpage should be unique classes or ID on that specific webpage\n",
    "This should reduce redundancy and overall coding errors when building the site.\n",
    "\n",
    "For unique identifiers utilizing codeblocks {% %} and keywords \"block content\" \"endblock\" we allow a particular webpage to have its own content/data, while the rest of the webpages take from the same template\n",
    "\n",
    "%extends layout.htnl (16:50 time video part 2)\n",
    "\n",
    "getbootstrap could be useful to add premade template designs without having to download the content (supposedly)\n",
    "\n",
    "static files meaning css or javascript codes need to be located in a static directory (26:00 part 2)\n",
    "\n",
    "once the static directory is completed we need to use the URL_for in our flask code, we also need to setup where this will be located in the html pages"
   ]
  },
  {
   "cell_type": "markdown",
   "id": "f653fcf7-0a38-4dd3-a2fa-f52ea9229880",
   "metadata": {},
   "source": [
    "## Adding something thats more dynamic (Blog Posts)\n",
    "If we want to have a more dynamic as opposed to static webpage we can again use render_template to pass this setup through "
   ]
  },
  {
   "cell_type": "code",
   "execution_count": null,
   "id": "303098f0-01bb-4580-8ecf-66719d7834de",
   "metadata": {},
   "outputs": [],
   "source": [
    "posts = [\n",
    "    {\n",
    "        'author': 'Corey Schafer',\n",
    "        'title': 'Blog Post 1',\n",
    "        'content': 'First post content',\n",
    "        'date_posted': 'April 20, 2018'\n",
    "    },\n",
    "    {\n",
    "        'author': 'Jane Doe',\n",
    "        'title': 'Blog Post 2',\n",
    "        'content': 'Second post content',\n",
    "        'date_posted': 'April 21, 2018'\n",
    "    }\n",
    "]\n",
    "\n",
    "@app.route(\"/\") \n",
    "@app.route(\"/home\") \n",
    "def home():\n",
    "    return render_template('home.html', posts = posts)\n",
    "\n",
    "#we must then adjust the code on the html template to ensure compatibility\n",
    "#we can insert \n",
    "\n",
    "<!DOCTYPE html>\n",
    "<html> \n",
    "<head>\n",
    "    <title></title>\n",
    "</head> \n",
    "<body>\n",
    "    {% for post in posts %}\n",
    "        <h1>{{ post.title }}</h1>\n",
    "        <p> By {{post.author}} on {{post.date_posted}}</p>\n",
    "        <p>{{post.content}}</p>\n",
    "    {% endfor %} #closes the for loop\n",
    "</body>\n",
    "</html>"
   ]
  },
  {
   "cell_type": "code",
   "execution_count": null,
   "id": "d07b4528-a6b8-429d-9a63-a322f4459380",
   "metadata": {},
   "outputs": [],
   "source": [
    "#STOPPED AT PART#2 TIMESTAMP: 10:31 "
   ]
  }
 ],
 "metadata": {
  "kernelspec": {
   "display_name": "Python 3 (ipykernel)",
   "language": "python",
   "name": "python3"
  },
  "language_info": {
   "codemirror_mode": {
    "name": "ipython",
    "version": 3
   },
   "file_extension": ".py",
   "mimetype": "text/x-python",
   "name": "python",
   "nbconvert_exporter": "python",
   "pygments_lexer": "ipython3",
   "version": "3.11.2"
  }
 },
 "nbformat": 4,
 "nbformat_minor": 5
}
